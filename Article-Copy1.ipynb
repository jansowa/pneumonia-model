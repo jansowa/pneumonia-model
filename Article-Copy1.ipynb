{
 "cells": [
  {
   "cell_type": "markdown",
   "id": "ac8ed60d",
   "metadata": {},
   "source": [
    "# MobileNetV2 transfer learning\n",
    "\n",
    "### 1. Load data"
   ]
  },
  {
   "cell_type": "code",
   "execution_count": 1,
   "id": "034aaec5",
   "metadata": {},
   "outputs": [
    {
     "name": "stderr",
     "output_type": "stream",
     "text": [
      "2023-09-01 18:34:37.731728: I tensorflow/core/platform/cpu_feature_guard.cc:193] This TensorFlow binary is optimized with oneAPI Deep Neural Network Library (oneDNN) to use the following CPU instructions in performance-critical operations:  SSE4.1 SSE4.2 AVX AVX2 FMA\n",
      "To enable them in other operations, rebuild TensorFlow with the appropriate compiler flags.\n"
     ]
    }
   ],
   "source": [
    "import optuna\n",
    "from keras import callbacks\n",
    "import numpy as np\n",
    "\n",
    "import tensorflow as tf\n",
    "from keras.preprocessing.image import ImageDataGenerator\n",
    "import cv2\n",
    "import os\n",
    "\n",
    "def reduce_nondeterminism():\n",
    "    import os\n",
    "    os.environ['TF_CUDNN_DETERMINISTIC']='1'\n",
    "    import tensorflow as tf\n",
    "    import random as rn\n",
    "    import numpy as np\n",
    "    tf.random.set_seed(42)\n",
    "    os.environ['PYTHONHASHSEED'] = '0'\n",
    "    np.random.seed(42)\n",
    "    rn.seed(42)\n",
    "    \n",
    "reduce_nondeterminism()\n",
    "\n",
    "labels = ['PNEUMONIA', 'NORMAL']\n",
    "img_size = 160\n",
    "def get_training_data(data_dir):\n",
    "    data = []\n",
    "    for label in labels:\n",
    "        path = os.path.join(data_dir, label)\n",
    "        class_num = labels.index(label)\n",
    "        for img in os.listdir(path):\n",
    "            try:\n",
    "                img_arr = cv2.imread(os.path.join(path, img))\n",
    "                resized_arr = cv2.resize(img_arr, (img_size, img_size)) # Reshaping images to preferred size\n",
    "                data.append([resized_arr, class_num])\n",
    "                # print(resized_arr.shape)\n",
    "            except Exception as e:\n",
    "                print(e)\n",
    "    return np.array(data, dtype=object)\n",
    "    # return np.array(data)\n",
    "\n",
    "train = get_training_data('chest_xray/chest_xray/train')\n",
    "test = get_training_data('chest_xray/chest_xray/test')\n",
    "val = get_training_data('chest_xray/chest_xray/val')\n",
    "\n",
    "x_train = []\n",
    "y_train = []\n",
    "\n",
    "x_val = []\n",
    "y_val = []\n",
    "\n",
    "x_test = []\n",
    "y_test = []\n",
    "\n",
    "for feature, label in train:\n",
    "    x_train.append(feature)\n",
    "    y_train.append(label)\n",
    "\n",
    "for feature, label in test:\n",
    "    x_test.append(feature)\n",
    "    y_test.append(label)\n",
    "\n",
    "for feature, label in val:\n",
    "    x_val.append(feature)\n",
    "    y_val.append(label)\n",
    "\n",
    "# Normalize the data\n",
    "x_train = np.array(x_train) / 255\n",
    "x_val = np.array(x_val) / 255\n",
    "x_test = np.array(x_test) / 255\n",
    "\n",
    "# resize data for deep learning\n",
    "x_train = x_train.reshape(-1, img_size, img_size, 3)\n",
    "y_train = np.array(y_train)\n",
    "\n",
    "x_val = x_val.reshape(-1, img_size, img_size, 3)\n",
    "y_val = np.array(y_val)\n",
    "\n",
    "x_test = x_test.reshape(-1, img_size, img_size, 3)\n",
    "y_test = np.array(y_test)\n"
   ]
  },
  {
   "cell_type": "markdown",
   "id": "52baf7c2",
   "metadata": {},
   "source": [
    "### 2. Data augmentation"
   ]
  },
  {
   "cell_type": "code",
   "execution_count": 2,
   "id": "6518de0c",
   "metadata": {},
   "outputs": [],
   "source": [
    "datagen = ImageDataGenerator(\n",
    "        featurewise_center=False,  # set input mean to 0 over the dataset\n",
    "        samplewise_center=False,  # set each sample mean to 0\n",
    "        featurewise_std_normalization=False,  # divide inputs by std of the dataset\n",
    "        samplewise_std_normalization=False,  # divide each input by its std\n",
    "        zca_whitening=False,  # apply ZCA whitening\n",
    "        rotation_range=30,  # randomly rotate images in the range (degrees, 0 to 180)\n",
    "        zoom_range=0.2,  # Randomly zoom image\n",
    "        width_shift_range=0.1,  # randomly shift images horizontally (fraction of total width)\n",
    "        height_shift_range=0.1,  # randomly shift images vertically (fraction of total height)\n",
    "        horizontal_flip=False,  # randomly flip images\n",
    "        vertical_flip=False)  # randomly flip images\n",
    "\n",
    "datagen.fit(x_train)"
   ]
  },
  {
   "cell_type": "markdown",
   "id": "3d12c145",
   "metadata": {},
   "source": [
    "### 3. Neural Network architecture"
   ]
  },
  {
   "cell_type": "code",
   "execution_count": 3,
   "id": "9eadfebd",
   "metadata": {},
   "outputs": [
    {
     "name": "stderr",
     "output_type": "stream",
     "text": [
      "2023-09-01 18:35:17.853900: I tensorflow/compiler/xla/stream_executor/cuda/cuda_gpu_executor.cc:981] successful NUMA node read from SysFS had negative value (-1), but there must be at least one NUMA node, so returning NUMA node zero\n",
      "2023-09-01 18:35:18.173408: I tensorflow/compiler/xla/stream_executor/cuda/cuda_gpu_executor.cc:981] successful NUMA node read from SysFS had negative value (-1), but there must be at least one NUMA node, so returning NUMA node zero\n",
      "2023-09-01 18:35:18.173568: I tensorflow/compiler/xla/stream_executor/cuda/cuda_gpu_executor.cc:981] successful NUMA node read from SysFS had negative value (-1), but there must be at least one NUMA node, so returning NUMA node zero\n",
      "2023-09-01 18:35:18.174075: I tensorflow/core/platform/cpu_feature_guard.cc:193] This TensorFlow binary is optimized with oneAPI Deep Neural Network Library (oneDNN) to use the following CPU instructions in performance-critical operations:  SSE4.1 SSE4.2 AVX AVX2 FMA\n",
      "To enable them in other operations, rebuild TensorFlow with the appropriate compiler flags.\n",
      "2023-09-01 18:35:18.174463: I tensorflow/compiler/xla/stream_executor/cuda/cuda_gpu_executor.cc:981] successful NUMA node read from SysFS had negative value (-1), but there must be at least one NUMA node, so returning NUMA node zero\n",
      "2023-09-01 18:35:18.174604: I tensorflow/compiler/xla/stream_executor/cuda/cuda_gpu_executor.cc:981] successful NUMA node read from SysFS had negative value (-1), but there must be at least one NUMA node, so returning NUMA node zero\n",
      "2023-09-01 18:35:18.174721: I tensorflow/compiler/xla/stream_executor/cuda/cuda_gpu_executor.cc:981] successful NUMA node read from SysFS had negative value (-1), but there must be at least one NUMA node, so returning NUMA node zero\n",
      "2023-09-01 18:35:18.744042: I tensorflow/compiler/xla/stream_executor/cuda/cuda_gpu_executor.cc:981] successful NUMA node read from SysFS had negative value (-1), but there must be at least one NUMA node, so returning NUMA node zero\n",
      "2023-09-01 18:35:18.744187: I tensorflow/compiler/xla/stream_executor/cuda/cuda_gpu_executor.cc:981] successful NUMA node read from SysFS had negative value (-1), but there must be at least one NUMA node, so returning NUMA node zero\n",
      "2023-09-01 18:35:18.744297: I tensorflow/compiler/xla/stream_executor/cuda/cuda_gpu_executor.cc:981] successful NUMA node read from SysFS had negative value (-1), but there must be at least one NUMA node, so returning NUMA node zero\n",
      "2023-09-01 18:35:18.744524: I tensorflow/core/common_runtime/gpu/gpu_device.cc:1613] Created device /job:localhost/replica:0/task:0/device:GPU:0 with 5768 MB memory:  -> device: 0, name: NVIDIA GeForce RTX 3060 Ti, pci bus id: 0000:26:00.0, compute capability: 8.6\n"
     ]
    }
   ],
   "source": [
    "learning_rate = 0.0033949725096571503\n",
    "dropout = 0.2067618721070267\n",
    "\n",
    "input_shape = (img_size, img_size, 3)\n",
    "\n",
    "base_model = tf.keras.applications.MobileNetV2(input_shape=input_shape,\n",
    "                                                   include_top=False,  # <== Important!!!!\n",
    "                                                   weights='imagenet')  # From imageNet\n",
    "\n",
    "base_model.trainable = False\n",
    "inputs = tf.keras.Input(shape=input_shape)  # TODO: is it necessary?\n",
    "x = base_model(inputs, training=False)\n",
    "x = tf.keras.layers.GlobalAveragePooling2D()(x)\n",
    "x = tf.keras.layers.Dropout(dropout)(x)\n",
    "outputs = tf.keras.layers.Dense(1, activation='sigmoid')(x)  # TODO: sigmoid?\n",
    "model = tf.keras.Model(inputs, outputs)"
   ]
  },
  {
   "cell_type": "markdown",
   "id": "b28c3173",
   "metadata": {},
   "source": [
    "### 4. Fit model"
   ]
  },
  {
   "cell_type": "code",
   "execution_count": 4,
   "id": "dae87f5e",
   "metadata": {},
   "outputs": [
    {
     "name": "stdout",
     "output_type": "stream",
     "text": [
      "Epoch 1/200\n"
     ]
    },
    {
     "name": "stderr",
     "output_type": "stream",
     "text": [
      "2023-09-01 18:35:23.167035: I tensorflow/compiler/xla/stream_executor/cuda/cuda_dnn.cc:428] Loaded cuDNN version 8401\n",
      "2023-09-01 18:35:24.790042: I tensorflow/tsl/platform/default/subprocess.cc:304] Start cannot spawn child process: No such file or directory\n",
      "2023-09-01 18:35:24.869127: I tensorflow/compiler/xla/service/service.cc:173] XLA service 0x7f47948cc6b0 initialized for platform CUDA (this does not guarantee that XLA will be used). Devices:\n",
      "2023-09-01 18:35:24.869141: I tensorflow/compiler/xla/service/service.cc:181]   StreamExecutor device (0): NVIDIA GeForce RTX 3060 Ti, Compute Capability 8.6\n",
      "2023-09-01 18:35:24.872150: I tensorflow/compiler/mlir/tensorflow/utils/dump_mlir_util.cc:268] disabling MLIR crash reproducer, set env var `MLIR_CRASH_REPRODUCER_DIRECTORY` to enable.\n",
      "2023-09-01 18:35:24.913031: I tensorflow/tsl/platform/default/subprocess.cc:304] Start cannot spawn child process: No such file or directory\n",
      "2023-09-01 18:35:24.937628: I tensorflow/compiler/jit/xla_compilation_cache.cc:477] Compiled cluster using XLA!  This line is logged at most once for the lifetime of the process.\n"
     ]
    },
    {
     "name": "stdout",
     "output_type": "stream",
     "text": [
      "139/139 - 18s - loss: 0.2437 - accuracy: 0.8982 - precision: 0.8194 - recall: 0.7525 - val_loss: 0.2035 - val_accuracy: 0.9297 - val_precision: 0.9694 - val_recall: 0.7422 - 18s/epoch - 130ms/step\n",
      "Epoch 2/200\n",
      "139/139 - 13s - loss: 0.1808 - accuracy: 0.9237 - precision: 0.8483 - recall: 0.8405 - val_loss: 0.1602 - val_accuracy: 0.9434 - val_precision: 0.9626 - val_recall: 0.8047 - 13s/epoch - 94ms/step\n",
      "Epoch 3/200\n",
      "139/139 - 13s - loss: 0.1692 - accuracy: 0.9307 - precision: 0.8603 - recall: 0.8579 - val_loss: 0.2055 - val_accuracy: 0.9180 - val_precision: 0.9574 - val_recall: 0.7031 - 13s/epoch - 93ms/step\n",
      "Epoch 4/200\n",
      "139/139 - 13s - loss: 0.1552 - accuracy: 0.9384 - precision: 0.8808 - recall: 0.8671 - val_loss: 0.1797 - val_accuracy: 0.9375 - val_precision: 0.9615 - val_recall: 0.7812 - 13s/epoch - 91ms/step\n",
      "Epoch 5/200\n",
      "139/139 - 13s - loss: 0.1581 - accuracy: 0.9364 - precision: 0.8714 - recall: 0.8698 - val_loss: 0.2124 - val_accuracy: 0.9258 - val_precision: 0.9592 - val_recall: 0.7344 - 13s/epoch - 94ms/step\n",
      "Epoch 6/200\n",
      "139/139 - 12s - loss: 0.1549 - accuracy: 0.9343 - precision: 0.8630 - recall: 0.8717 - val_loss: 0.1706 - val_accuracy: 0.9375 - val_precision: 0.9800 - val_recall: 0.7656 - 12s/epoch - 90ms/step\n",
      "Epoch 7/200\n",
      "139/139 - 13s - loss: 0.1454 - accuracy: 0.9402 - precision: 0.8775 - recall: 0.8799 - val_loss: 0.1709 - val_accuracy: 0.9375 - val_precision: 0.9444 - val_recall: 0.7969 - 13s/epoch - 93ms/step\n",
      "Epoch 8/200\n",
      "139/139 - 13s - loss: 0.1481 - accuracy: 0.9397 - precision: 0.8794 - recall: 0.8753 - val_loss: 0.1777 - val_accuracy: 0.9277 - val_precision: 0.9174 - val_recall: 0.7812 - 13s/epoch - 92ms/step\n",
      "Epoch 9/200\n",
      "139/139 - 13s - loss: 0.1423 - accuracy: 0.9445 - precision: 0.8858 - recall: 0.8891 - val_loss: 0.2152 - val_accuracy: 0.9316 - val_precision: 0.9429 - val_recall: 0.7734 - 13s/epoch - 91ms/step\n",
      "Epoch 10/200\n",
      "139/139 - 13s - loss: 0.1440 - accuracy: 0.9438 - precision: 0.8905 - recall: 0.8799 - val_loss: 0.1432 - val_accuracy: 0.9395 - val_precision: 0.9008 - val_recall: 0.8516 - 13s/epoch - 94ms/step\n",
      "Epoch 11/200\n",
      "139/139 - 13s - loss: 0.1471 - accuracy: 0.9355 - precision: 0.8636 - recall: 0.8763 - val_loss: 0.1942 - val_accuracy: 0.9375 - val_precision: 0.9800 - val_recall: 0.7656 - 13s/epoch - 93ms/step\n",
      "Epoch 12/200\n",
      "139/139 - 13s - loss: 0.1459 - accuracy: 0.9420 - precision: 0.8847 - recall: 0.8790 - val_loss: 0.2047 - val_accuracy: 0.9297 - val_precision: 0.8833 - val_recall: 0.8281 - 13s/epoch - 92ms/step\n",
      "Epoch 13/200\n",
      "139/139 - 13s - loss: 0.1514 - accuracy: 0.9400 - precision: 0.8740 - recall: 0.8836 - val_loss: 0.1789 - val_accuracy: 0.9414 - val_precision: 0.9804 - val_recall: 0.7812 - 13s/epoch - 92ms/step\n",
      "Epoch 14/200\n",
      "139/139 - 13s - loss: 0.1503 - accuracy: 0.9404 - precision: 0.8818 - recall: 0.8753 - val_loss: 0.1750 - val_accuracy: 0.9375 - val_precision: 0.9898 - val_recall: 0.7578 - 13s/epoch - 93ms/step\n",
      "Epoch 15/200\n",
      "139/139 - 13s - loss: 0.1549 - accuracy: 0.9422 - precision: 0.8820 - recall: 0.8836 - val_loss: 0.1555 - val_accuracy: 0.9590 - val_precision: 0.9908 - val_recall: 0.8438 - 13s/epoch - 92ms/step\n",
      "Epoch 16/200\n",
      "139/139 - 13s - loss: 0.1514 - accuracy: 0.9395 - precision: 0.8758 - recall: 0.8790 - val_loss: 0.1375 - val_accuracy: 0.9512 - val_precision: 0.9402 - val_recall: 0.8594 - 13s/epoch - 93ms/step\n",
      "Epoch 17/200\n",
      "139/139 - 13s - loss: 0.1387 - accuracy: 0.9461 - precision: 0.8894 - recall: 0.8918 - val_loss: 0.1647 - val_accuracy: 0.9355 - val_precision: 0.9279 - val_recall: 0.8047 - 13s/epoch - 92ms/step\n",
      "Epoch 18/200\n",
      "139/139 - 13s - loss: 0.1442 - accuracy: 0.9418 - precision: 0.8832 - recall: 0.8799 - val_loss: 0.1956 - val_accuracy: 0.9453 - val_precision: 0.9808 - val_recall: 0.7969 - 13s/epoch - 91ms/step\n",
      "Epoch 19/200\n",
      "139/139 - 13s - loss: 0.1464 - accuracy: 0.9391 - precision: 0.8728 - recall: 0.8808 - val_loss: 0.1488 - val_accuracy: 0.9473 - val_precision: 0.9810 - val_recall: 0.8047 - 13s/epoch - 94ms/step\n",
      "Epoch 20/200\n",
      "139/139 - 13s - loss: 0.1528 - accuracy: 0.9386 - precision: 0.8802 - recall: 0.8689 - val_loss: 0.1589 - val_accuracy: 0.9336 - val_precision: 0.9519 - val_recall: 0.7734 - 13s/epoch - 92ms/step\n",
      "Epoch 21/200\n",
      "139/139 - 13s - loss: 0.1451 - accuracy: 0.9420 - precision: 0.8812 - recall: 0.8836 - val_loss: 0.1803 - val_accuracy: 0.9258 - val_precision: 0.9412 - val_recall: 0.7500 - 13s/epoch - 93ms/step\n",
      "Epoch 22/200\n",
      "139/139 - 13s - loss: 0.1502 - accuracy: 0.9413 - precision: 0.8808 - recall: 0.8808 - val_loss: 0.1717 - val_accuracy: 0.9512 - val_precision: 0.9640 - val_recall: 0.8359 - 13s/epoch - 93ms/step\n",
      "Epoch 23/200\n",
      "139/139 - 13s - loss: 0.1510 - accuracy: 0.9361 - precision: 0.8686 - recall: 0.8726 - val_loss: 0.1214 - val_accuracy: 0.9473 - val_precision: 0.9391 - val_recall: 0.8438 - 13s/epoch - 93ms/step\n",
      "Epoch 24/200\n",
      "139/139 - 13s - loss: 0.1470 - accuracy: 0.9404 - precision: 0.8742 - recall: 0.8854 - val_loss: 0.2030 - val_accuracy: 0.9316 - val_precision: 0.9429 - val_recall: 0.7734 - 13s/epoch - 92ms/step\n",
      "Epoch 25/200\n",
      "139/139 - 13s - loss: 0.1470 - accuracy: 0.9436 - precision: 0.8868 - recall: 0.8836 - val_loss: 0.1666 - val_accuracy: 0.9434 - val_precision: 0.9541 - val_recall: 0.8125 - 13s/epoch - 93ms/step\n",
      "Epoch 26/200\n",
      "139/139 - 12s - loss: 0.1437 - accuracy: 0.9447 - precision: 0.8902 - recall: 0.8845 - val_loss: 0.1979 - val_accuracy: 0.9375 - val_precision: 0.9615 - val_recall: 0.7812 - 12s/epoch - 90ms/step\n",
      "Epoch 27/200\n",
      "139/139 - 13s - loss: 0.1535 - accuracy: 0.9413 - precision: 0.8753 - recall: 0.8882 - val_loss: 0.2628 - val_accuracy: 0.9219 - val_precision: 0.9681 - val_recall: 0.7109 - 13s/epoch - 92ms/step\n",
      "Epoch 28/200\n",
      "139/139 - 13s - loss: 0.1546 - accuracy: 0.9415 - precision: 0.8831 - recall: 0.8790 - val_loss: 0.1294 - val_accuracy: 0.9414 - val_precision: 0.8889 - val_recall: 0.8750 - 13s/epoch - 92ms/step\n",
      "Epoch 29/200\n",
      "139/139 - 13s - loss: 0.1590 - accuracy: 0.9370 - precision: 0.8691 - recall: 0.8763 - val_loss: 0.1386 - val_accuracy: 0.9434 - val_precision: 0.9091 - val_recall: 0.8594 - 13s/epoch - 91ms/step\n",
      "Epoch 30/200\n",
      "139/139 - 13s - loss: 0.1384 - accuracy: 0.9479 - precision: 0.8967 - recall: 0.8909 - val_loss: 0.1516 - val_accuracy: 0.9453 - val_precision: 0.9630 - val_recall: 0.8125 - 13s/epoch - 93ms/step\n",
      "Epoch 31/200\n",
      "139/139 - 13s - loss: 0.1348 - accuracy: 0.9483 - precision: 0.8954 - recall: 0.8946 - val_loss: 0.1895 - val_accuracy: 0.9395 - val_precision: 0.9619 - val_recall: 0.7891 - 13s/epoch - 91ms/step\n",
      "Epoch 32/200\n",
      "139/139 - 13s - loss: 0.1491 - accuracy: 0.9425 - precision: 0.8779 - recall: 0.8900 - val_loss: 0.2461 - val_accuracy: 0.9277 - val_precision: 0.9892 - val_recall: 0.7188 - 13s/epoch - 91ms/step\n",
      "Epoch 33/200\n",
      "139/139 - 13s - loss: 0.1451 - accuracy: 0.9393 - precision: 0.8736 - recall: 0.8808 - val_loss: 0.1364 - val_accuracy: 0.9414 - val_precision: 0.9298 - val_recall: 0.8281 - 13s/epoch - 92ms/step\n",
      "Epoch 34/200\n",
      "139/139 - 13s - loss: 0.1384 - accuracy: 0.9420 - precision: 0.8854 - recall: 0.8781 - val_loss: 0.1461 - val_accuracy: 0.9375 - val_precision: 0.9364 - val_recall: 0.8047 - 13s/epoch - 91ms/step\n",
      "Epoch 35/200\n",
      "139/139 - 13s - loss: 0.1346 - accuracy: 0.9479 - precision: 0.8967 - recall: 0.8909 - val_loss: 0.2269 - val_accuracy: 0.9297 - val_precision: 0.9894 - val_recall: 0.7266 - 13s/epoch - 94ms/step\n",
      "Epoch 36/200\n",
      "139/139 - 13s - loss: 0.1491 - accuracy: 0.9411 - precision: 0.8793 - recall: 0.8818 - val_loss: 0.2895 - val_accuracy: 0.9102 - val_precision: 0.9457 - val_recall: 0.6797 - 13s/epoch - 90ms/step\n",
      "Epoch 37/200\n",
      "139/139 - 12s - loss: 0.1398 - accuracy: 0.9454 - precision: 0.8927 - recall: 0.8845 - val_loss: 0.1356 - val_accuracy: 0.9512 - val_precision: 0.9187 - val_recall: 0.8828 - 12s/epoch - 90ms/step\n",
      "Epoch 38/200\n",
      "139/139 - 13s - loss: 0.1391 - accuracy: 0.9458 - precision: 0.8914 - recall: 0.8882 - val_loss: 0.1829 - val_accuracy: 0.9453 - val_precision: 0.9808 - val_recall: 0.7969 - 13s/epoch - 93ms/step\n",
      "Epoch 39/200\n",
      "139/139 - 13s - loss: 0.1448 - accuracy: 0.9420 - precision: 0.8833 - recall: 0.8808 - val_loss: 0.1902 - val_accuracy: 0.9395 - val_precision: 1.0000 - val_recall: 0.7578 - 13s/epoch - 91ms/step\n",
      "Epoch 40/200\n",
      "139/139 - 13s - loss: 0.1300 - accuracy: 0.9492 - precision: 0.8987 - recall: 0.8946 - val_loss: 0.1435 - val_accuracy: 0.9473 - val_precision: 0.9903 - val_recall: 0.7969 - 13s/epoch - 92ms/step\n"
     ]
    },
    {
     "name": "stdout",
     "output_type": "stream",
     "text": [
      "Epoch 41/200\n",
      "139/139 - 12s - loss: 0.1478 - accuracy: 0.9431 - precision: 0.8838 - recall: 0.8854 - val_loss: 0.2055 - val_accuracy: 0.9316 - val_precision: 0.9794 - val_recall: 0.7422 - 12s/epoch - 89ms/step\n",
      "Epoch 42/200\n",
      "139/139 - 13s - loss: 0.1494 - accuracy: 0.9404 - precision: 0.8797 - recall: 0.8781 - val_loss: 0.1827 - val_accuracy: 0.9316 - val_precision: 0.8720 - val_recall: 0.8516 - 13s/epoch - 91ms/step\n",
      "Epoch 43/200\n",
      "139/139 - 13s - loss: 0.1413 - accuracy: 0.9436 - precision: 0.8854 - recall: 0.8854 - val_loss: 0.1531 - val_accuracy: 0.9414 - val_precision: 0.9537 - val_recall: 0.8047 - 13s/epoch - 93ms/step\n"
     ]
    }
   ],
   "source": [
    "METRICS = [\n",
    "    'accuracy',\n",
    "    tf.keras.metrics.Precision(name='precision'),\n",
    "    tf.keras.metrics.Recall(name='recall')\n",
    "]\n",
    "\n",
    "model.compile(loss='binary_crossentropy',\n",
    "              optimizer=tf.keras.optimizers.Adam(learning_rate=learning_rate),\n",
    "              metrics=METRICS)\n",
    "\n",
    "checkpoint_filepath_first = \"article_filapath.h5\"\n",
    "checkpoint_cb_first = tf.keras.callbacks.ModelCheckpoint(checkpoint_filepath_first,\n",
    "                                                             save_best_only=True, monitor=\"val_loss\", mode=\"min\")\n",
    "earlystopping = callbacks.EarlyStopping(monitor=\"val_loss\",\n",
    "                                            mode=\"min\", patience=20,\n",
    "                                            restore_best_weights=True)\n",
    "batch_size = 32\n",
    "epochs_first_fitting = 200\n",
    "epochs_fine_tunning = 200\n",
    "hist = model.fit(datagen.flow(x_train, y_train, batch_size=batch_size), batch_size=batch_size,\n",
    "                 epochs=epochs_first_fitting,\n",
    "                 verbose=2,\n",
    "                 validation_data=datagen.flow(x_val, y_val),\n",
    "                 callbacks=[checkpoint_cb_first, earlystopping])"
   ]
  },
  {
   "cell_type": "markdown",
   "id": "445b0d73",
   "metadata": {},
   "source": [
    "### 5. Evaluate the model"
   ]
  },
  {
   "cell_type": "code",
   "execution_count": 5,
   "id": "95986edc",
   "metadata": {},
   "outputs": [
    {
     "name": "stdout",
     "output_type": "stream",
     "text": [
      "20/20 [==============================] - 0s 17ms/step - loss: 0.5031 - accuracy: 0.8077 - precision: 0.6629 - recall: 0.9915\n",
      "Loss of the model is -  0.50307297706604\n",
      "Accuracy of the model is -  80.7692289352417 %\n"
     ]
    }
   ],
   "source": [
    "model.load_weights(checkpoint_filepath_first)\n",
    "eval = model.evaluate(x_test, y_test)\n",
    "print(\"Loss of the model is - \", eval[0])\n",
    "print(\"Accuracy of the model is - \", eval[1] * 100, \"%\")"
   ]
  },
  {
   "cell_type": "markdown",
   "id": "67c61bcf",
   "metadata": {},
   "source": [
    "### 6. Fine tune more layers"
   ]
  },
  {
   "cell_type": "code",
   "execution_count": 6,
   "id": "a26ad8d5",
   "metadata": {},
   "outputs": [
    {
     "name": "stdout",
     "output_type": "stream",
     "text": [
      "Epoch 43/200\n"
     ]
    },
    {
     "name": "stderr",
     "output_type": "stream",
     "text": [
      "2023-09-01 18:44:44.050023: I tensorflow/compiler/xla/stream_executor/cuda/cuda_blas.cc:630] TensorFloat-32 will be used for the matrix multiplication. This will only be logged once.\n"
     ]
    },
    {
     "name": "stdout",
     "output_type": "stream",
     "text": [
      "139/139 - 25s - loss: 0.8636 - accuracy: 0.7450 - precision: 0.5285 - recall: 0.5245 - val_loss: 0.5463 - val_accuracy: 0.7520 - val_precision: 0.5021 - val_recall: 0.9141 - 25s/epoch - 181ms/step\n",
      "Epoch 44/200\n",
      "139/139 - 13s - loss: 0.7132 - accuracy: 0.8228 - precision: 0.6406 - recall: 0.6389 - val_loss: 0.3947 - val_accuracy: 0.9238 - val_precision: 0.9083 - val_recall: 0.7734 - 13s/epoch - 97ms/step\n",
      "Epoch 45/200\n",
      "139/139 - 13s - loss: 0.5377 - accuracy: 0.8556 - precision: 0.7094 - recall: 0.7003 - val_loss: 0.3485 - val_accuracy: 0.9316 - val_precision: 0.9043 - val_recall: 0.8125 - 13s/epoch - 95ms/step\n",
      "Epoch 46/200\n",
      "139/139 - 13s - loss: 0.4152 - accuracy: 0.8937 - precision: 0.7865 - recall: 0.7800 - val_loss: 0.4703 - val_accuracy: 0.8848 - val_precision: 0.9859 - val_recall: 0.5469 - 13s/epoch - 92ms/step\n",
      "Epoch 47/200\n",
      "139/139 - 13s - loss: 0.3219 - accuracy: 0.9156 - precision: 0.8298 - recall: 0.8268 - val_loss: 0.4773 - val_accuracy: 0.9004 - val_precision: 0.9873 - val_recall: 0.6094 - 13s/epoch - 93ms/step\n",
      "Epoch 48/200\n",
      "139/139 - 13s - loss: 0.2952 - accuracy: 0.9224 - precision: 0.8392 - recall: 0.8469 - val_loss: 0.3824 - val_accuracy: 0.9199 - val_precision: 0.9888 - val_recall: 0.6875 - 13s/epoch - 93ms/step\n",
      "Epoch 49/200\n",
      "139/139 - 13s - loss: 0.2901 - accuracy: 0.9278 - precision: 0.8593 - recall: 0.8451 - val_loss: 0.2836 - val_accuracy: 0.9219 - val_precision: 0.9583 - val_recall: 0.7188 - 13s/epoch - 95ms/step\n",
      "Epoch 50/200\n",
      "139/139 - 13s - loss: 0.3050 - accuracy: 0.9174 - precision: 0.8275 - recall: 0.8396 - val_loss: 0.4695 - val_accuracy: 0.9199 - val_precision: 0.9677 - val_recall: 0.7031 - 13s/epoch - 94ms/step\n",
      "Epoch 51/200\n",
      "139/139 - 13s - loss: 0.2279 - accuracy: 0.9346 - precision: 0.8712 - recall: 0.8616 - val_loss: 0.4535 - val_accuracy: 0.9277 - val_precision: 0.9892 - val_recall: 0.7188 - 13s/epoch - 93ms/step\n",
      "Epoch 52/200\n",
      "139/139 - 13s - loss: 0.1914 - accuracy: 0.9465 - precision: 0.8968 - recall: 0.8845 - val_loss: 0.2771 - val_accuracy: 0.9453 - val_precision: 0.9464 - val_recall: 0.8281 - 13s/epoch - 94ms/step\n",
      "Epoch 53/200\n",
      "139/139 - 13s - loss: 0.2183 - accuracy: 0.9377 - precision: 0.8735 - recall: 0.8735 - val_loss: 0.4739 - val_accuracy: 0.9102 - val_precision: 1.0000 - val_recall: 0.6406 - 13s/epoch - 91ms/step\n",
      "Epoch 54/200\n",
      "139/139 - 13s - loss: 0.2066 - accuracy: 0.9422 - precision: 0.8898 - recall: 0.8735 - val_loss: 0.3357 - val_accuracy: 0.9336 - val_precision: 0.9896 - val_recall: 0.7422 - 13s/epoch - 91ms/step\n",
      "Epoch 55/200\n",
      "139/139 - 13s - loss: 0.1748 - accuracy: 0.9508 - precision: 0.8994 - recall: 0.9010 - val_loss: 0.3788 - val_accuracy: 0.9199 - val_precision: 0.9888 - val_recall: 0.6875 - 13s/epoch - 92ms/step\n",
      "Epoch 56/200\n",
      "139/139 - 13s - loss: 0.1746 - accuracy: 0.9474 - precision: 0.8958 - recall: 0.8900 - val_loss: 0.2100 - val_accuracy: 0.9414 - val_precision: 0.9224 - val_recall: 0.8359 - 13s/epoch - 93ms/step\n",
      "Epoch 57/200\n",
      "139/139 - 13s - loss: 0.1868 - accuracy: 0.9467 - precision: 0.8897 - recall: 0.8946 - val_loss: 0.3454 - val_accuracy: 0.9258 - val_precision: 0.9891 - val_recall: 0.7109 - 13s/epoch - 91ms/step\n",
      "Epoch 58/200\n",
      "139/139 - 13s - loss: 0.1639 - accuracy: 0.9526 - precision: 0.9045 - recall: 0.9028 - val_loss: 0.2428 - val_accuracy: 0.9395 - val_precision: 0.9709 - val_recall: 0.7812 - 13s/epoch - 92ms/step\n",
      "Epoch 59/200\n",
      "139/139 - 13s - loss: 0.1395 - accuracy: 0.9621 - precision: 0.9199 - recall: 0.9267 - val_loss: 0.1853 - val_accuracy: 0.9414 - val_precision: 0.9712 - val_recall: 0.7891 - 13s/epoch - 96ms/step\n",
      "Epoch 60/200\n",
      "139/139 - 13s - loss: 0.1786 - accuracy: 0.9533 - precision: 0.9048 - recall: 0.9056 - val_loss: 0.3630 - val_accuracy: 0.9453 - val_precision: 0.9717 - val_recall: 0.8047 - 13s/epoch - 92ms/step\n",
      "Epoch 61/200\n",
      "139/139 - 13s - loss: 0.3355 - accuracy: 0.9298 - precision: 0.8618 - recall: 0.8515 - val_loss: 0.4590 - val_accuracy: 0.9414 - val_precision: 0.9900 - val_recall: 0.7734 - 13s/epoch - 92ms/step\n",
      "Epoch 62/200\n",
      "139/139 - 13s - loss: 0.3250 - accuracy: 0.9307 - precision: 0.8616 - recall: 0.8561 - val_loss: 0.5029 - val_accuracy: 0.9414 - val_precision: 0.9712 - val_recall: 0.7891 - 13s/epoch - 94ms/step\n",
      "Epoch 63/200\n",
      "139/139 - 13s - loss: 0.3088 - accuracy: 0.9300 - precision: 0.8573 - recall: 0.8588 - val_loss: 0.4337 - val_accuracy: 0.9473 - val_precision: 0.9720 - val_recall: 0.8125 - 13s/epoch - 93ms/step\n",
      "Epoch 64/200\n",
      "139/139 - 13s - loss: 0.2228 - accuracy: 0.9463 - precision: 0.8931 - recall: 0.8882 - val_loss: 0.3984 - val_accuracy: 0.9355 - val_precision: 0.9897 - val_recall: 0.7500 - 13s/epoch - 91ms/step\n",
      "Epoch 65/200\n",
      "139/139 - 13s - loss: 0.2710 - accuracy: 0.9388 - precision: 0.8782 - recall: 0.8726 - val_loss: 0.1809 - val_accuracy: 0.9512 - val_precision: 0.9558 - val_recall: 0.8438 - 13s/epoch - 94ms/step\n",
      "Epoch 66/200\n",
      "139/139 - 13s - loss: 0.1640 - accuracy: 0.9558 - precision: 0.9087 - recall: 0.9120 - val_loss: 0.4118 - val_accuracy: 0.9355 - val_precision: 0.9897 - val_recall: 0.7500 - 13s/epoch - 92ms/step\n",
      "Epoch 67/200\n",
      "139/139 - 13s - loss: 0.2809 - accuracy: 0.9321 - precision: 0.8597 - recall: 0.8653 - val_loss: 0.3476 - val_accuracy: 0.9512 - val_precision: 0.9640 - val_recall: 0.8359 - 13s/epoch - 92ms/step\n",
      "Epoch 68/200\n",
      "139/139 - 13s - loss: 0.2192 - accuracy: 0.9440 - precision: 0.8835 - recall: 0.8900 - val_loss: 0.6041 - val_accuracy: 0.8750 - val_precision: 0.9848 - val_recall: 0.5078 - 13s/epoch - 93ms/step\n",
      "Epoch 69/200\n",
      "139/139 - 13s - loss: 0.4309 - accuracy: 0.9018 - precision: 0.7998 - recall: 0.8020 - val_loss: 0.3530 - val_accuracy: 0.9277 - val_precision: 0.7974 - val_recall: 0.9531 - 13s/epoch - 92ms/step\n",
      "Epoch 70/200\n",
      "139/139 - 13s - loss: 0.4090 - accuracy: 0.9253 - precision: 0.8467 - recall: 0.8506 - val_loss: 0.7186 - val_accuracy: 0.9355 - val_precision: 0.9897 - val_recall: 0.7500 - 13s/epoch - 93ms/step\n",
      "Epoch 71/200\n",
      "139/139 - 13s - loss: 1.0581 - accuracy: 0.8050 - precision: 0.6103 - recall: 0.5756 - val_loss: 0.6657 - val_accuracy: 0.7500 - val_precision: 0.0000e+00 - val_recall: 0.0000e+00 - 13s/epoch - 93ms/step\n",
      "Epoch 72/200\n",
      "139/139 - 12s - loss: 1.6816 - accuracy: 0.6272 - precision: 0.2295 - recall: 0.2181 - val_loss: 0.8904 - val_accuracy: 0.7500 - val_precision: 0.0000e+00 - val_recall: 0.0000e+00 - 12s/epoch - 89ms/step\n",
      "Epoch 73/200\n",
      "139/139 - 13s - loss: 1.6223 - accuracy: 0.6339 - precision: 0.2405 - recall: 0.2255 - val_loss: 0.7011 - val_accuracy: 0.7500 - val_precision: 0.0000e+00 - val_recall: 0.0000e+00 - 13s/epoch - 92ms/step\n",
      "Epoch 74/200\n",
      "139/139 - 13s - loss: 1.5143 - accuracy: 0.6387 - precision: 0.2485 - recall: 0.2310 - val_loss: 0.7828 - val_accuracy: 0.7500 - val_precision: 0.0000e+00 - val_recall: 0.0000e+00 - 13s/epoch - 93ms/step\n",
      "Epoch 75/200\n",
      "139/139 - 13s - loss: 1.3977 - accuracy: 0.6468 - precision: 0.2639 - recall: 0.2429 - val_loss: 0.8557 - val_accuracy: 0.7500 - val_precision: 0.0000e+00 - val_recall: 0.0000e+00 - 13s/epoch - 92ms/step\n",
      "Epoch 76/200\n",
      "139/139 - 13s - loss: 1.3607 - accuracy: 0.6348 - precision: 0.2414 - recall: 0.2255 - val_loss: 0.8182 - val_accuracy: 0.7500 - val_precision: 0.0000e+00 - val_recall: 0.0000e+00 - 13s/epoch - 93ms/step\n",
      "Epoch 77/200\n",
      "139/139 - 13s - loss: 1.2569 - accuracy: 0.6436 - precision: 0.2490 - recall: 0.2218 - val_loss: 0.7089 - val_accuracy: 0.7500 - val_precision: 0.0000e+00 - val_recall: 0.0000e+00 - 13s/epoch - 90ms/step\n",
      "Epoch 78/200\n",
      "139/139 - 13s - loss: 1.1984 - accuracy: 0.6459 - precision: 0.2531 - recall: 0.2246 - val_loss: 0.8102 - val_accuracy: 0.7500 - val_precision: 0.0000e+00 - val_recall: 0.0000e+00 - 13s/epoch - 91ms/step\n",
      "Epoch 79/200\n",
      "139/139 - 13s - loss: 1.1407 - accuracy: 0.6524 - precision: 0.2678 - recall: 0.2374 - val_loss: 0.7687 - val_accuracy: 0.7500 - val_precision: 0.0000e+00 - val_recall: 0.0000e+00 - 13s/epoch - 91ms/step\n",
      "Epoch 80/200\n",
      "139/139 - 13s - loss: 1.1231 - accuracy: 0.6367 - precision: 0.2254 - recall: 0.1952 - val_loss: 0.6965 - val_accuracy: 0.7500 - val_precision: 0.0000e+00 - val_recall: 0.0000e+00 - 13s/epoch - 93ms/step\n",
      "Epoch 81/200\n",
      "139/139 - 13s - loss: 1.0531 - accuracy: 0.6403 - precision: 0.2322 - recall: 0.1998 - val_loss: 0.7096 - val_accuracy: 0.7500 - val_precision: 0.0000e+00 - val_recall: 0.0000e+00 - 13s/epoch - 94ms/step\n"
     ]
    },
    {
     "name": "stdout",
     "output_type": "stream",
     "text": [
      "Epoch 82/200\n",
      "139/139 - 13s - loss: 1.0236 - accuracy: 0.6385 - precision: 0.2214 - recall: 0.1861 - val_loss: 0.6311 - val_accuracy: 0.7500 - val_precision: 0.0000e+00 - val_recall: 0.0000e+00 - 13s/epoch - 93ms/step\n",
      "Epoch 83/200\n",
      "139/139 - 13s - loss: 0.9579 - accuracy: 0.6491 - precision: 0.2428 - recall: 0.2007 - val_loss: 0.6561 - val_accuracy: 0.7500 - val_precision: 0.0000e+00 - val_recall: 0.0000e+00 - 13s/epoch - 96ms/step\n",
      "Epoch 84/200\n",
      "139/139 - 13s - loss: 0.9106 - accuracy: 0.6628 - precision: 0.2723 - recall: 0.2209 - val_loss: 0.5908 - val_accuracy: 0.7500 - val_precision: 0.0000e+00 - val_recall: 0.0000e+00 - 13s/epoch - 92ms/step\n",
      "Epoch 85/200\n",
      "139/139 - 13s - loss: 0.8657 - accuracy: 0.6513 - precision: 0.2304 - recall: 0.1778 - val_loss: 0.6957 - val_accuracy: 0.7500 - val_precision: 0.0000e+00 - val_recall: 0.0000e+00 - 13s/epoch - 91ms/step\n"
     ]
    }
   ],
   "source": [
    "fine_tune_at = 119\n",
    "model.load_weights(checkpoint_filepath_first)\n",
    "base_model = model.layers[1]\n",
    "base_model.trainable = True\n",
    "for layer in base_model.layers[:fine_tune_at]:\n",
    "    layer.trainable = fine_tune_at\n",
    "loss_function = tf.keras.losses.BinaryCrossentropy(from_logits=False)\n",
    "optimizer = tf.keras.optimizers.Adam(learning_rate=0.1 * learning_rate)\n",
    "model.compile(loss=loss_function,\n",
    "                  optimizer=optimizer,\n",
    "                  metrics=METRICS)\n",
    "checkpoint_filepath = \"fine_tune_final.h5\"\n",
    "checkpoint_cb = tf.keras.callbacks.ModelCheckpoint(checkpoint_filepath,\n",
    "                                                       save_best_only=True, monitor=\"val_loss\", mode=\"min\")\n",
    "hist_fine = model.fit(datagen.flow(x_train, y_train, batch_size=32), batch_size=batch_size,\n",
    "                          epochs=epochs_fine_tunning,\n",
    "                          verbose=2,\n",
    "                          validation_data=datagen.flow(x_val, y_val),\n",
    "                          callbacks=[checkpoint_cb, earlystopping],\n",
    "                          initial_epoch=hist.epoch[-1])\n"
   ]
  },
  {
   "cell_type": "code",
   "execution_count": 7,
   "id": "bec978d4",
   "metadata": {},
   "outputs": [
    {
     "name": "stdout",
     "output_type": "stream",
     "text": [
      "20/20 [==============================] - 0s 14ms/step - loss: 0.2110 - accuracy: 0.9471 - precision: 0.9763 - recall: 0.8803 \n",
      "Loss of the model is -  0.2109663039445877\n",
      "Accuracy of the model is -  94.71153616905212 %\n"
     ]
    }
   ],
   "source": [
    "model.load_weights(checkpoint_filepath)\n",
    "eval = model.evaluate(x_test, y_test)\n",
    "print(\"Loss of the model is - \", eval[0])\n",
    "print(\"Accuracy of the model is - \", eval[1] * 100, \"%\")"
   ]
  }
 ],
 "metadata": {
  "kernelspec": {
   "display_name": "Python 3 (ipykernel)",
   "language": "python",
   "name": "python3"
  },
  "language_info": {
   "codemirror_mode": {
    "name": "ipython",
    "version": 3
   },
   "file_extension": ".py",
   "mimetype": "text/x-python",
   "name": "python",
   "nbconvert_exporter": "python",
   "pygments_lexer": "ipython3",
   "version": "3.10.8"
  }
 },
 "nbformat": 4,
 "nbformat_minor": 5
}
